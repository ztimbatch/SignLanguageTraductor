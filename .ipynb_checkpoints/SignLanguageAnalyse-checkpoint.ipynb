{
 "cells": [
  {
   "cell_type": "code",
   "execution_count": 1,
   "metadata": {},
   "outputs": [],
   "source": [
    "import os\n",
    "import cv2\n",
    "import pandas as pd\n",
    "import numpy as np\n",
    "import matplotlib.pyplot as plt\n",
    "import seaborn as sns"
   ]
  },
  {
   "cell_type": "code",
   "execution_count": 2,
   "metadata": {},
   "outputs": [],
   "source": [
    "class_names = ['A', 'B', 'C', 'D', 'E', 'F', 'G', 'H', 'I', 'K', 'L', 'M', 'N', 'O', 'P', 'Q', 'R', 'S', 'T', 'U', 'V', 'W', 'X', 'Y']"
   ]
  },
  {
   "cell_type": "code",
   "execution_count": 10,
   "metadata": {},
   "outputs": [],
   "source": [
    "def get_data(images_dir):\n",
    "    data = []\n",
    "    \n",
    "    for class_label, label in enumerate(class_names):\n",
    "        path = os.path.join(images_dir, label)\n",
    "        print(path)\n",
    "        for img in os.listdir(path):\n",
    "            full_path_image = os.path.join(path, img)\n",
    "            image = cv2.imread(full_path_image)\n",
    "            data.append((image, class_label))\n",
    "                             \n",
    "    return data"
   ]
  },
  {
   "cell_type": "code",
   "execution_count": 11,
   "metadata": {},
   "outputs": [
    {
     "name": "stdout",
     "output_type": "stream",
     "text": [
      "data\\archive\\Train\\A\n",
      "data\\archive\\Train\\B\n",
      "data\\archive\\Train\\C\n",
      "data\\archive\\Train\\D\n",
      "data\\archive\\Train\\E\n",
      "data\\archive\\Train\\F\n",
      "data\\archive\\Train\\G\n",
      "data\\archive\\Train\\H\n",
      "data\\archive\\Train\\I\n",
      "data\\archive\\Train\\K\n",
      "data\\archive\\Train\\L\n",
      "data\\archive\\Train\\M\n",
      "data\\archive\\Train\\N\n",
      "data\\archive\\Train\\O\n",
      "data\\archive\\Train\\P\n",
      "data\\archive\\Train\\Q\n",
      "data\\archive\\Train\\R\n",
      "data\\archive\\Train\\S\n",
      "data\\archive\\Train\\T\n",
      "data\\archive\\Train\\U\n",
      "data\\archive\\Train\\V\n",
      "data\\archive\\Train\\W\n",
      "data\\archive\\Train\\X\n",
      "data\\archive\\Train\\Y\n"
     ]
    }
   ],
   "source": [
    "all_train_images = get_data(r'data\\archive\\Train')"
   ]
  },
  {
   "cell_type": "code",
   "execution_count": 12,
   "metadata": {},
   "outputs": [],
   "source": [
    "X_train = []\n",
    "X_test = []\n",
    "y_train = []\n",
    "y_test = []"
   ]
  },
  {
   "cell_type": "code",
   "execution_count": 13,
   "metadata": {},
   "outputs": [],
   "source": [
    "for img, label in all_train_images:\n",
    "    X_train.append(img)\n",
    "    y_train.append(label)"
   ]
  },
  {
   "cell_type": "code",
   "execution_count": 14,
   "metadata": {},
   "outputs": [
    {
     "name": "stdout",
     "output_type": "stream",
     "text": [
      "data\\archive\\Test\\A\n",
      "data\\archive\\Test\\B\n",
      "data\\archive\\Test\\C\n",
      "data\\archive\\Test\\D\n",
      "data\\archive\\Test\\E\n",
      "data\\archive\\Test\\F\n",
      "data\\archive\\Test\\G\n",
      "data\\archive\\Test\\H\n",
      "data\\archive\\Test\\I\n",
      "data\\archive\\Test\\K\n",
      "data\\archive\\Test\\L\n",
      "data\\archive\\Test\\M\n",
      "data\\archive\\Test\\N\n",
      "data\\archive\\Test\\O\n",
      "data\\archive\\Test\\P\n",
      "data\\archive\\Test\\Q\n",
      "data\\archive\\Test\\R\n",
      "data\\archive\\Test\\S\n",
      "data\\archive\\Test\\T\n",
      "data\\archive\\Test\\U\n",
      "data\\archive\\Test\\V\n",
      "data\\archive\\Test\\W\n",
      "data\\archive\\Test\\X\n",
      "data\\archive\\Test\\Y\n"
     ]
    }
   ],
   "source": [
    "all_test_images = get_data(r'data\\archive\\Test')"
   ]
  },
  {
   "cell_type": "code",
   "execution_count": 15,
   "metadata": {},
   "outputs": [],
   "source": [
    "for img, label in all_test_images:\n",
    "    X_test.append(img)\n",
    "    y_test.append(label)"
   ]
  },
  {
   "cell_type": "code",
   "execution_count": 16,
   "metadata": {},
   "outputs": [],
   "source": [
    "# preprocessing images\n",
    "X_train = np.array(X_train)/255\n",
    "X_test = np.array(X_test)/255"
   ]
  },
  {
   "cell_type": "code",
   "execution_count": 17,
   "metadata": {},
   "outputs": [
    {
     "data": {
      "text/plain": [
       "(27094, 28, 28, 3)"
      ]
     },
     "execution_count": 17,
     "metadata": {},
     "output_type": "execute_result"
    }
   ],
   "source": [
    "X_train.shape"
   ]
  },
  {
   "cell_type": "code",
   "execution_count": 18,
   "metadata": {},
   "outputs": [
    {
     "data": {
      "text/plain": [
       "(7172, 28, 28, 3)"
      ]
     },
     "execution_count": 18,
     "metadata": {},
     "output_type": "execute_result"
    }
   ],
   "source": [
    "X_test.shape"
   ]
  },
  {
   "cell_type": "code",
   "execution_count": 23,
   "metadata": {},
   "outputs": [
    {
     "data": {
      "text/plain": [
       "<AxesSubplot:ylabel='count'>"
      ]
     },
     "execution_count": 23,
     "metadata": {},
     "output_type": "execute_result"
    },
    {
     "data": {
      "image/png": "[encoded data removed]",
      "text/plain": [
       "<Figure size 640x480 with 1 Axes>"
      ]
     },
     "metadata": {},
     "output_type": "display_data"
    }
   ],
   "source": [
    "sns.countplot(x=y_train)"
   ]
  },
  {
   "cell_type": "code",
   "execution_count": 24,
   "metadata": {},
   "outputs": [],
   "source": [
    "y_train = np.array(y_train)\n",
    "y_test = np.array(y_test)"
   ]
  },
  {
   "cell_type": "code",
   "execution_count": 25,
   "metadata": {},
   "outputs": [],
   "source": [
    "import keras\n",
    "from keras.models import Sequential\n",
    "from keras.layers import Dense, Conv2D , MaxPool2D , Flatten , Dropout"
   ]
  },
  {
   "cell_type": "code",
   "execution_count": 26,
   "metadata": {},
   "outputs": [],
   "source": [
    "model = Sequential()\n",
    "model.add(Conv2D(24, (3,3), activation=\"relu\", input_shape=(28,28,3)))\n",
    "model.add(MaxPool2D())\n",
    "\n",
    "model.add(Conv2D(24, (3,3), activation=\"relu\"))\n",
    "model.add(MaxPool2D())\n",
    "\n",
    "model.add(Conv2D(64, (3,3), activation=\"relu\"))\n",
    "model.add(MaxPool2D())\n",
    "model.add(Dropout(0.4))\n",
    "\n",
    "model.add(Flatten())\n",
    "model.add(Dense(128,activation=\"relu\"))\n",
    "model.add(Dense(24, activation=\"softmax\"))"
   ]
  },
  {
   "cell_type": "code",
   "execution_count": 27,
   "metadata": {},
   "outputs": [],
   "source": [
    "model.compile(optimizer='adam',\n",
    "              loss=keras.losses.SparseCategoricalCrossentropy(from_logits=True),\n",
    "              metrics=['accuracy'])"
   ]
  },
  {
   "cell_type": "code",
   "execution_count": 28,
   "metadata": {},
   "outputs": [],
   "source": [
    "from keras.callbacks import EarlyStopping"
   ]
  },
  {
   "cell_type": "code",
   "execution_count": 29,
   "metadata": {},
   "outputs": [],
   "source": [
    "early_stop = EarlyStopping(monitor='val_loss', mode='min', verbose=1, patience=25)"
   ]
  },
  {
   "cell_type": "code",
   "execution_count": null,
   "metadata": {},
   "outputs": [
    {
     "name": "stdout",
     "output_type": "stream",
     "text": [
      "Epoch 1/400\n"
     ]
    },
    {
     "name": "stderr",
     "output_type": "stream",
     "text": [
      "C:\\Users\\Asus\\Desktop\\Python\\TensorFlow\\env\\lib\\site-packages\\tensorflow\\python\\util\\dispatch.py:1082: UserWarning: \"`sparse_categorical_crossentropy` received `from_logits=True`, but the `output` argument was produced by a sigmoid or softmax activation and thus does not represent logits. Was this intended?\"\n",
      "  return dispatch_target(*args, **kwargs)\n"
     ]
    },
    {
     "name": "stdout",
     "output_type": "stream",
     "text": [
      "847/847 [==============================] - 21s 23ms/step - loss: 1.9766 - accuracy: 0.3705 - val_loss: 1.0364 - val_accuracy: 0.6814\n",
      "Epoch 2/400\n",
      "847/847 [==============================] - 18s 21ms/step - loss: 0.8962 - accuracy: 0.6934 - val_loss: 0.6189 - val_accuracy: 0.7959\n",
      "Epoch 3/400\n",
      "847/847 [==============================] - 19s 23ms/step - loss: 0.6408 - accuracy: 0.7769 - val_loss: 0.5662 - val_accuracy: 0.8118\n",
      "Epoch 4/400\n",
      "847/847 [==============================] - 18s 21ms/step - loss: 0.5039 - accuracy: 0.8244 - val_loss: 0.4298 - val_accuracy: 0.8572\n",
      "Epoch 5/400\n",
      "847/847 [==============================] - 18s 21ms/step - loss: 0.4070 - accuracy: 0.8584 - val_loss: 0.4794 - val_accuracy: 0.8441\n",
      "Epoch 6/400\n",
      "726/847 [========================>.....] - ETA: 2s - loss: 0.3480 - accuracy: 0.8783"
     ]
    }
   ],
   "source": [
    "# train model\n",
    "model.fit(x=X_train, y=y_train, epochs=400, validation_data=(X_test, y_test), callbacks=[early_stop])"
   ]
  },
  {
   "cell_type": "code",
   "execution_count": null,
   "metadata": {},
   "outputs": [],
   "source": []
  }
 ],
 "metadata": {
  "kernelspec": {
   "display_name": "env",
   "language": "python",
   "name": "env"
  },
  "language_info": {
   "codemirror_mode": {
    "name": "ipython",
    "version": 3
   },
   "file_extension": ".py",
   "mimetype": "text/x-python",
   "name": "python",
   "nbconvert_exporter": "python",
   "pygments_lexer": "ipython3",
   "version": "3.10.6"
  }
 },
 "nbformat": 4,
 "nbformat_minor": 2
}
